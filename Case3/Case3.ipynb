{
 "cells": [
  {
   "cell_type": "markdown",
   "metadata": {},
   "source": [
    "# Case 3. Medical text categorization\n",
    "Ville Seeste<br>\n",
    "Last edited: 12.03.2018<br>\n",
    "Cognitive Systems for Health Technology Applications<br>\n",
    "[Helsinki Metropolia University of Applied Sciences](http://www.metropolia.fi/en/)<br>"
   ]
  },
  {
   "cell_type": "markdown",
   "metadata": {},
   "source": [
    "## 1. Objectives\n",
    "\n",
    "Goal of this exercise was to categorize medical text data and get to know basics of how to deal with text related machine learning problems. "
   ]
  },
  {
   "cell_type": "markdown",
   "metadata": {},
   "source": [
    "## 2. Required libraries and global variables"
   ]
  },
  {
   "cell_type": "code",
   "execution_count": 229,
   "metadata": {},
   "outputs": [],
   "source": [
    "import os\n",
    "from keras.models import Sequential\n",
    "from keras.layers import Flatten, Dense, Embedding, LSTM, Conv1D, GlobalMaxPooling1D, MaxPooling1D\n",
    "from keras.preprocessing.text import Tokenizer\n",
    "from keras.preprocessing.sequence import pad_sequences\n",
    "import numpy as np\n",
    "from keras.utils.np_utils import to_categorical\n",
    "import time\n",
    "import matplotlib.pyplot as plt\n",
    "import re"
   ]
  },
  {
   "cell_type": "markdown",
   "metadata": {},
   "source": [
    "## 3. Data description and preprocessing\n",
    "\n",
    "In text preprocessing my plan was to remove as many unnecassery words as possible. For example removing most common words and stopwords. Also I removed numbers and special characters.\n",
    "\n",
    "### Get data from the directories"
   ]
  },
  {
   "cell_type": "code",
   "execution_count": 230,
   "metadata": {},
   "outputs": [],
   "source": [
    "ohsumed_dir = 'ohsumed-first-20000-docs/'\n",
    "train_dir = os.path.join(ohsumed_dir, 'training')\n",
    "test_dir = os.path.join(ohsumed_dir, 'test')\n",
    "\n",
    "labels = []\n",
    "texts = []\n",
    "test_labels = []\n",
    "test_texts = []\n",
    "\n",
    "# Generate a list L = ['C01', 'C02, ..., 'C023']\n",
    "L = ['C{:02}'.format(n) for n in range(1, 23 + 1)]\n",
    "\n",
    "# Training data\n",
    "for label_type in L:\n",
    "    dir_name = os.path.join(train_dir, label_type)\n",
    "    #print(label_type, len(os.listdir))\n",
    "    for fname in os.listdir(dir_name):\n",
    "        f = open(os.path.join(dir_name, fname))\n",
    "        texts.append(f.read())\n",
    "        f.close()\n",
    "        i = L.index(label_type)\n",
    "        labels.append(i)\n",
    "\n",
    "# Test data\n",
    "for label_type in L:\n",
    "    dir_name = os.path.join(test_dir, label_type)\n",
    "    for fname in os.listdir(dir_name):\n",
    "        f = open(os.path.join(dir_name, fname))\n",
    "        test_texts.append(f.read())\n",
    "        f.close()\n",
    "        test_labels.append(L.index(label_type))\n",
    "\n"
   ]
  },
  {
   "cell_type": "markdown",
   "metadata": {},
   "source": [
    "### Obtaining most common words"
   ]
  },
  {
   "cell_type": "code",
   "execution_count": 231,
   "metadata": {},
   "outputs": [
    {
     "name": "stdout",
     "output_type": "stream",
     "text": [
      "Found 28665 unique tokens\n"
     ]
    }
   ],
   "source": [
    "maxlen = 250 #250 best so far\n",
    "max_words = 10000 # 10 000 best so far\n",
    "eDim = 256\n",
    "\n",
    "tokenizer = Tokenizer(num_words=max_words, lower=True, filters='0123456789!\"#$%&()*+,-./:;<=>?@[\\\\]^_`{|}~\\t\\n')\n",
    "tokenizer.fit_on_texts(texts)\n",
    "\n",
    "most_common_words = []\n",
    "word_index = tokenizer.word_index\n",
    "\n",
    "# add most common words to array\n",
    "i = 1\n",
    "remove_amount = 46 # 46 best at the moment\n",
    "while i < remove_amount:\n",
    "    most_common_words.append(list(word_index.keys())[list(word_index.values()).index(i)])\n",
    "    i = i + 1\n",
    "\n",
    "\n",
    "sequences = tokenizer.texts_to_sequences(texts)\n",
    "\n",
    "test_sequences = tokenizer.texts_to_sequences(test_texts)\n",
    "x_test = pad_sequences(test_sequences, maxlen=maxlen)\n",
    "test_labels = np.asarray(test_labels)\n",
    "y_test = to_categorical(test_labels)\n",
    "\n",
    "\n",
    "print('Found %s unique tokens' % len(word_index))"
   ]
  },
  {
   "cell_type": "markdown",
   "metadata": {},
   "source": [
    "### Removing some words\n",
    "\n",
    "In this part I removed most common word obtained previosly and also some stopwords. NLTK library migth have some good functions for this but I did my own script for this because I am dumb... It works pretty well althougt it removes more words than I wanted, but I think it's not a major issue if it looses couple words here and there (for classification purposes)."
   ]
  },
  {
   "cell_type": "code",
   "execution_count": 232,
   "metadata": {},
   "outputs": [
    {
     "name": "stdout",
     "output_type": "stream",
     "text": [
      "Found 28041 unique tokens\n",
      "Keeped words: 1009839\n",
      "Removed words: 642023\n",
      "Removed stop words: 106240\n"
     ]
    }
   ],
   "source": [
    "texts_no_common = []\n",
    "replace_amount = 0\n",
    "no_replace = 0\n",
    "stop_counter = 0\n",
    "\n",
    "# Stop word list\n",
    "stop_words = [\"a\", \"about\", \"above\", \"above\", \"across\", \"after\", \"afterwards\", \"again\", \"against\", \"all\", \"almost\", \"alone\", \n",
    "              \"along\", \"already\", \"also\",\"although\",\"always\",\"am\",\"among\", \"amongst\", \"amoungst\", \"amount\",  \"an\", \"and\", \n",
    "              \"another\", \"any\",\"anyhow\",\"anyone\",\"anything\",\"anyway\", \"anywhere\", \"are\", \"around\", \"as\",  \"at\", \"back\",\"be\",\n",
    "              \"became\", \"because\",\"become\",\"becomes\", \"becoming\", \"been\", \"before\", \"beforehand\", \"behind\", \"being\", \"below\",\n",
    "              \"beside\", \"besides\", \"between\", \"beyond\", \"bill\", \"both\", \"bottom\",\"but\", \"by\", \"call\", \"can\", \"cannot\", \"cant\",\n",
    "              \"co\", \"con\", \"could\", \"couldnt\", \"cry\", \"de\", \"describe\", \"detail\", \"do\", \"done\", \"down\", \"due\", \"during\", \"each\",\n",
    "              \"eg\", \"eight\", \"either\", \"eleven\",\"else\", \"elsewhere\", \"empty\", \"enough\", \"etc\", \"even\", \"ever\", \"every\",\n",
    "              \"everyone\", \"everything\", \"everywhere\", \"except\", \"few\", \"fifteen\", \"fify\", \"fill\", \"find\", \"fire\", \"first\",\n",
    "              \"five\", \"for\", \"former\", \"formerly\", \"forty\", \"found\", \"four\", \"from\", \"front\", \"full\", \"further\", \"get\", \"give\",\n",
    "              \"go\", \"had\", \"has\", \"hasnt\", \"have\", \"he\", \"hence\", \"her\", \"here\", \"hereafter\", \"hereby\", \"herein\", \"hereupon\",\n",
    "              \"hers\", \"herself\", \"him\", \"himself\", \"his\", \"how\", \"however\", \"hundred\", \"ie\", \"if\", \"in\", \"inc\", \"indeed\",\n",
    "              \"interest\", \"into\", \"is\", \"it\", \"its\", \"itself\", \"keep\", \"last\", \"latter\", \"latterly\", \"least\", \"less\", \"ltd\",\n",
    "              \"made\", \"many\", \"may\", \"me\", \"meanwhile\", \"might\", \"mill\", \"mine\", \"more\", \"moreover\", \"most\", \"mostly\", \"move\",\n",
    "              \"much\", \"must\", \"my\", \"myself\", \"name\", \"namely\", \"neither\", \"never\", \"nevertheless\", \"next\", \"nine\", \"no\",\n",
    "              \"nobody\", \"none\", \"noone\", \"nor\", \"not\", \"nothing\", \"now\", \"nowhere\", \"of\", \"off\", \"often\", \"on\", \"once\", \"one\",\n",
    "              \"only\", \"onto\", \"or\", \"other\", \"others\", \"otherwise\", \"our\", \"ours\", \"ourselves\", \"out\", \"over\", \"own\",\"part\",\n",
    "              \"per\", \"perhaps\", \"please\", \"put\", \"rather\", \"re\", \"same\", \"see\", \"seem\", \"seemed\", \"seeming\", \"seems\", \"serious\",\n",
    "              \"several\", \"she\", \"should\", \"show\", \"side\", \"since\", \"sincere\", \"six\", \"sixty\", \"so\", \"some\", \"somehow\", \"someone\",\n",
    "              \"something\", \"sometime\", \"sometimes\", \"somewhere\", \"still\", \"such\", \"system\", \"take\", \"ten\", \"than\", \"that\", \"the\",\n",
    "              \"their\", \"them\", \"themselves\", \"then\", \"thence\", \"there\", \"thereafter\", \"thereby\", \"therefore\", \"therein\",\n",
    "              \"thereupon\", \"these\", \"they\", \"thickv\", \"thin\", \"third\", \"this\", \"those\", \"though\", \"three\", \"through\",\n",
    "              \"throughout\", \"thru\", \"thus\", \"to\", \"together\", \"too\", \"top\", \"toward\", \"towards\", \"twelve\", \"twenty\", \"two\", \"un\",\n",
    "              \"under\", \"until\", \"up\", \"upon\", \"us\", \"very\", \"via\", \"was\", \"we\", \"well\", \"were\", \"what\", \"whatever\", \"when\",\n",
    "              \"whence\", \"whenever\", \"where\", \"whereafter\", \"whereas\", \"whereby\", \"wherein\", \"whereupon\", \"wherever\", \"whether\",\n",
    "              \"which\", \"while\", \"whither\", \"who\", \"whoever\", \"whole\", \"whom\", \"whose\", \"why\", \"will\", \"with\", \"within\", \"without\",\n",
    "              \"would\", \"yet\", \"you\", \"your\", \"yours\", \"yourself\", \"yourselves\", \"the\"]\n",
    "\n",
    "for text in texts:\n",
    "    \n",
    "    # Filter unwanted characters\n",
    "    text = text.lower()\n",
    "    text = re.sub('[^a-z ]', ' ', text)\n",
    "    \n",
    "    #split words to list\n",
    "    words = text.split()\n",
    "    new_words = []\n",
    "    \n",
    "    # this part removes most common words\n",
    "    for word in words:\n",
    "        valid_word = True\n",
    "        for common in most_common_words:\n",
    "            if word == common:\n",
    "                valid_word = False\n",
    "                replace_amount = replace_amount + 1                \n",
    "                break\n",
    "                \n",
    "        if valid_word:\n",
    "            #check if word is a stop word\n",
    "            for stpwrd in stop_words:\n",
    "                if word == stpwrd:\n",
    "                    stop_counter = stop_counter + 1\n",
    "                    valid_word = False\n",
    "                    break\n",
    "        if valid_word:\n",
    "            no_replace = no_replace + 1\n",
    "            new_words.append(word)\n",
    "            \n",
    "    # Make to string again and add to list\n",
    "    sentence = ' '.join(new_words)\n",
    "    texts_no_common.append(sentence)\n",
    "\n",
    "tok = Tokenizer(num_words=max_words, lower=True, filters='0123456789!\"#$%&()*+,-./:;<=>?@[\\\\]^_`{|}~\\t\\n')\n",
    "tok.fit_on_texts(texts_no_common)\n",
    "word_index_no_common = tok.word_index\n",
    "sequences2 = tok.texts_to_sequences(texts_no_common)\n",
    "\n",
    "print('Found %s unique tokens' % len(word_index_no_common))\n",
    "print(\"Keeped words: \" + str(no_replace) + \"\\nRemoved words: \" + str(replace_amount) + \"\\nRemoved stop words: \" + str(stop_counter))"
   ]
  },
  {
   "cell_type": "markdown",
   "metadata": {},
   "source": [
    "#### prepare for training"
   ]
  },
  {
   "cell_type": "code",
   "execution_count": 233,
   "metadata": {},
   "outputs": [
    {
     "name": "stdout",
     "output_type": "stream",
     "text": [
      "Shape of data tensor: (10433, 250)\n",
      "Shape of labels tensor: (10433, 23)\n"
     ]
    }
   ],
   "source": [
    "#data = pad_sequences(sequences, maxlen = maxlen)\n",
    "data = pad_sequences(sequences2, maxlen = maxlen)\n",
    "\n",
    "labels = np.asarray(labels)\n",
    "one_hot_labels = to_categorical(labels)\n",
    "\n",
    "print('Shape of data tensor:', data.shape)\n",
    "print('Shape of labels tensor:', one_hot_labels.shape)"
   ]
  },
  {
   "cell_type": "code",
   "execution_count": 234,
   "metadata": {},
   "outputs": [],
   "source": [
    "# Suffle data\n",
    "\n",
    "indices = np.arange(data.shape[0])\n",
    "np.random.shuffle(indices)\n",
    "data = data[indices]\n",
    "labels = labels[indices]\n",
    "one_hot_labels = one_hot_labels[indices]"
   ]
  },
  {
   "cell_type": "markdown",
   "metadata": {},
   "source": [
    "## 4. Modeling and compilation\n",
    "\n",
    "I tested many different kind of model but this one seemed to work the best. So I have couple 1D convolutional layers at the base of the model. Then I have LSTM layer (I tried to stack 2 but there was not much difference in result) and softmax layer. I use dropouts in LSTM layers to decrease overfitting."
   ]
  },
  {
   "cell_type": "code",
   "execution_count": 235,
   "metadata": {},
   "outputs": [
    {
     "name": "stdout",
     "output_type": "stream",
     "text": [
      "_________________________________________________________________\n",
      "Layer (type)                 Output Shape              Param #   \n",
      "=================================================================\n",
      "embedding_17 (Embedding)     (None, 250, 256)          2560000   \n",
      "_________________________________________________________________\n",
      "conv1d_23 (Conv1D)           (None, 244, 64)           114752    \n",
      "_________________________________________________________________\n",
      "max_pooling1d_12 (MaxPooling (None, 48, 64)            0         \n",
      "_________________________________________________________________\n",
      "conv1d_24 (Conv1D)           (None, 42, 64)            28736     \n",
      "_________________________________________________________________\n",
      "lstm_30 (LSTM)               (None, 32)                12416     \n",
      "_________________________________________________________________\n",
      "dense_23 (Dense)             (None, 23)                759       \n",
      "=================================================================\n",
      "Total params: 2,716,663\n",
      "Trainable params: 2,716,663\n",
      "Non-trainable params: 0\n",
      "_________________________________________________________________\n"
     ]
    }
   ],
   "source": [
    "model = Sequential()\n",
    "model.add(Embedding(max_words, eDim, input_length=maxlen))\n",
    "model.add(Conv1D(64, 7, activation='relu'))\n",
    "model.add(MaxPooling1D(5))\n",
    "model.add(Conv1D(64, 7, activation='relu'))\n",
    "#model.add(LSTM(64, dropout=0.2, recurrent_dropout=0.2, return_sequences=True))\n",
    "model.add(LSTM(32,dropout=0.2, recurrent_dropout=0.2))\n",
    "model.add(Dense(len(L), activation = 'softmax'))\n",
    "\n",
    "model.compile(optimizer = 'rmsprop',\n",
    "             loss = 'categorical_crossentropy',\n",
    "             metrics = ['accuracy'])\n",
    "\n",
    "model.summary()"
   ]
  },
  {
   "cell_type": "markdown",
   "metadata": {},
   "source": [
    "## 5. Training\n",
    "\n",
    "Training was pretty fast (compared to case 2). "
   ]
  },
  {
   "cell_type": "code",
   "execution_count": 236,
   "metadata": {},
   "outputs": [
    {
     "name": "stdout",
     "output_type": "stream",
     "text": [
      "Train on 8346 samples, validate on 2087 samples\n",
      "Epoch 1/5\n",
      "8346/8346 [==============================] - 62s 7ms/step - loss: 2.7059 - acc: 0.2124 - val_loss: 2.5424 - val_acc: 0.2750\n",
      "Epoch 2/5\n",
      "8346/8346 [==============================] - 57s 7ms/step - loss: 2.4149 - acc: 0.2955 - val_loss: 2.4759 - val_acc: 0.2918\n",
      "Epoch 3/5\n",
      "8346/8346 [==============================] - 52s 6ms/step - loss: 2.2182 - acc: 0.3393 - val_loss: 2.4470 - val_acc: 0.2894\n",
      "Epoch 4/5\n",
      "8346/8346 [==============================] - 51s 6ms/step - loss: 2.0547 - acc: 0.3777 - val_loss: 2.4559 - val_acc: 0.2894\n",
      "Epoch 5/5\n",
      "8346/8346 [==============================] - 51s 6ms/step - loss: 1.9140 - acc: 0.4153 - val_loss: 2.5317 - val_acc: 0.2674\n",
      "Elapsed time: 274.99 seconds\n"
     ]
    }
   ],
   "source": [
    "t1 = time.time()\n",
    "history = model.fit(data, one_hot_labels,\n",
    "                   epochs = 5,\n",
    "                   batch_size = 32,\n",
    "                   validation_split = 0.2)\n",
    "t2 = time.time()\n",
    "print('Elapsed time: {:.2f} seconds'.format((t2-t1)))"
   ]
  },
  {
   "cell_type": "markdown",
   "metadata": {},
   "source": [
    "## 6. Validation\n",
    "\n",
    "My model started to overfit very quickly, usually after 3 epochs. Validation accuracy was usually between 28-30%."
   ]
  },
  {
   "cell_type": "code",
   "execution_count": 237,
   "metadata": {},
   "outputs": [
    {
     "data": {
      "image/png": "[encoded data removed]",
      "text/plain": [
       "<matplotlib.figure.Figure at 0x26a9677f860>"
      ]
     },
     "metadata": {},
     "output_type": "display_data"
    },
    {
     "data": {
      "image/png": "[encoded data removed]",
      "text/plain": [
       "<matplotlib.figure.Figure at 0x26a9683c908>"
      ]
     },
     "metadata": {},
     "output_type": "display_data"
    }
   ],
   "source": [
    "acc = history.history['acc']\n",
    "val_acc = history.history['val_acc']\n",
    "loss = history.history['loss']\n",
    "val_loss = history.history['val_loss']\n",
    "\n",
    "epochs = range(1, len(acc) + 1)\n",
    "\n",
    "plt.figure(figsize=(15, 3))\n",
    "plt.plot(epochs, acc, 'bo', label='Training acc')\n",
    "plt.plot(epochs, val_acc, 'b', label='Validation acc')\n",
    "plt.title('Training and validation accuracy')\n",
    "plt.grid()\n",
    "plt.xlabel('Epoch')\n",
    "plt.legend()\n",
    "\n",
    "\n",
    "plt.figure(figsize=(15, 3))\n",
    "plt.plot(epochs, loss, 'bo', label='Training loss')\n",
    "plt.plot(epochs, val_loss, 'b', label='Validation loss')\n",
    "plt.title('Training and validation loss')\n",
    "plt.grid()\n",
    "plt.xlabel('Epoch')\n",
    "plt.legend()\n",
    "\n",
    "plt.show()"
   ]
  },
  {
   "cell_type": "markdown",
   "metadata": {},
   "source": [
    "## 7. Results and Discussion\n",
    "\n",
    "Without preprocessing my accuracy was below 20%. Only with filtering numbers, my accuracy increased about 5%. With removing most common words my accuracy reached around 30%. Removing stopwords didn't help much with the accuracy. I was a bit surprised how much you can improve your accuracy just by preprocessing text. "
   ]
  },
  {
   "cell_type": "code",
   "execution_count": 238,
   "metadata": {},
   "outputs": [],
   "source": [
    "# Preprocess test data\n",
    "\n",
    "test_texts_no_common = []\n",
    "\n",
    "for text in test_texts:\n",
    "    \n",
    "    # Filter unwanted characters\n",
    "    text = text.lower()\n",
    "    text = re.sub('[^a-z ]', ' ', text)\n",
    "    \n",
    "    #split words to list\n",
    "    words = text.split()\n",
    "    new_words = []\n",
    "    \n",
    "    # this part removes most common words\n",
    "    for word in words:\n",
    "        valid_word = True\n",
    "        for common in most_common_words:\n",
    "            if word == common:\n",
    "                valid_word = False\n",
    "                break\n",
    "                \n",
    "        if valid_word:\n",
    "            #check if word is a stop word\n",
    "            for stpwrd in stop_words:\n",
    "                if word == stpwrd:\n",
    "                    valid_word = False\n",
    "                    break\n",
    "        if valid_word:\n",
    "            new_words.append(word)\n",
    "            \n",
    "    # Make to string again and add to list\n",
    "    sentence = ' '.join(new_words)\n",
    "    test_texts_no_common.append(sentence)\n",
    "\n"
   ]
  },
  {
   "cell_type": "code",
   "execution_count": 241,
   "metadata": {},
   "outputs": [
    {
     "name": "stdout",
     "output_type": "stream",
     "text": [
      "Found 28041 unique tokens\n"
     ]
    }
   ],
   "source": [
    "test_sequences = tok.texts_to_sequences(test_texts_no_common)\n",
    "x_test = pad_sequences(test_sequences, maxlen=maxlen)\n",
    "test_labels = np.asarray(test_labels)\n",
    "y_test = to_categorical(test_labels)\n",
    "\n",
    "print('Found %s unique tokens' % len(word_index_no_common))"
   ]
  },
  {
   "cell_type": "code",
   "execution_count": 242,
   "metadata": {},
   "outputs": [
    {
     "name": "stdout",
     "output_type": "stream",
     "text": [
      "12733/12733 [==============================] - 18s 1ms/step\n"
     ]
    },
    {
     "data": {
      "text/plain": [
       "[2.325254727353625, 0.3193277311228642]"
      ]
     },
     "execution_count": 242,
     "metadata": {},
     "output_type": "execute_result"
    }
   ],
   "source": [
    "model.evaluate(x_test, y_test)"
   ]
  },
  {
   "cell_type": "markdown",
   "metadata": {},
   "source": [
    "## 8. Conclusions"
   ]
  },
  {
   "cell_type": "markdown",
   "metadata": {},
   "source": [
    "I found out that it's rather difficult to train models to understand text. Even in this pretty simple classification task it was hard to reach good results. \n",
    "\n",
    "Also I realized the importance of preprocessing the data to achieve good results."
   ]
  }
 ],
 "metadata": {
  "kernelspec": {
   "display_name": "Python 3",
   "language": "python",
   "name": "python3"
  },
  "language_info": {
   "codemirror_mode": {
    "name": "ipython",
    "version": 3
   },
   "file_extension": ".py",
   "mimetype": "text/x-python",
   "name": "python",
   "nbconvert_exporter": "python",
   "pygments_lexer": "ipython3",
   "version": "3.6.4"
  }
 },
 "nbformat": 4,
 "nbformat_minor": 2
}
