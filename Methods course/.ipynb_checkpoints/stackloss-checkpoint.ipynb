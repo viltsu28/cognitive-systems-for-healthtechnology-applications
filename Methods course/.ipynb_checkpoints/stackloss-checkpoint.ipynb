{
 "cells": [
  {
   "cell_type": "code",
   "execution_count": 86,
   "metadata": {},
   "outputs": [
    {
     "name": "stdout",
     "output_type": "stream",
     "text": [
      "    Id  Air.Flow  Water.Temp  Acid.Conc.  stack.loss\n",
      "0    1        80          27          89          42\n",
      "1    2        80          27          88          37\n",
      "2    3        75          25          90          37\n",
      "3    4        62          24          87          28\n",
      "4    5        62          22          87          18\n",
      "5    6        62          23          87          18\n",
      "6    7        62          24          93          19\n",
      "7    8        62          24          93          20\n",
      "8    9        58          23          87          15\n",
      "9   10        58          18          80          14\n",
      "10  11        58          18          89          14\n",
      "11  12        58          17          88          13\n",
      "12  13        58          18          82          11\n",
      "13  14        58          19          93          12\n",
      "14  15        50          18          89           8\n",
      "15  16        50          18          86           7\n",
      "16  17        50          19          72           8\n",
      "17  18        50          19          79           8\n",
      "18  19        50          20          80           9\n",
      "19  20        56          20          82          15\n",
      "20  21        70          20          91          15\n"
     ]
    }
   ],
   "source": [
    "import numpy as np\n",
    "import pandas as pd\n",
    "from sklearn import linear_model\n",
    "from sklearn.metrics import mean_squared_error, r2_score\n",
    "from sklearn.preprocessing import StandardScaler\n",
    "import matplotlib.pyplot as plt\n",
    "\n",
    "# stackloss demo\n",
    "# read data (replace with your own path)\n",
    "df = pd.read_csv('stackloss.csv', sep=';')\n",
    "print(df)\n"
   ]
  },
  {
   "cell_type": "code",
   "execution_count": 87,
   "metadata": {},
   "outputs": [
    {
     "name": "stdout",
     "output_type": "stream",
     "text": [
      "Coefficients: [ 0.7156402   1.29528612 -0.15212252]\n",
      "Intercept: -39.9196744201\n",
      "MSE =  8.51571245706\n",
      "R2s =  0.913576904461\n"
     ]
    }
   ],
   "source": [
    "# split into explanatory and response variables \n",
    "X = df.iloc[:,1:4]\n",
    "Y = df.iloc[:,4]\n",
    "\n",
    "# build and fit model\n",
    "reg = linear_model.LinearRegression()\n",
    "reg.fit(X,Y)\n",
    "\n",
    "# output model\n",
    "print(\"Coefficients:\" ,reg.coef_)\n",
    "print(\"Intercept:\", reg.intercept_)\n",
    "\n",
    "# compute predicted values\n",
    "Y_pred = reg.predict(X)\n",
    "\n",
    "# compute error statistics\n",
    "mse = mean_squared_error(Y, Y_pred)\n",
    "r2s = r2_score(Y, Y_pred) \n",
    "print(\"MSE = \", mse)\n",
    "print(\"R2s = \", r2s)"
   ]
  },
  {
   "cell_type": "code",
   "execution_count": 88,
   "metadata": {},
   "outputs": [
    {
     "name": "stdout",
     "output_type": "stream",
     "text": [
      "    observed  predicted  residual\n",
      "0         42  38.765363  3.234637\n",
      "1         37  38.917485 -1.917485\n",
      "2         37  32.444467  4.555533\n",
      "3         28  22.302226  5.697774\n",
      "4         18  19.711654 -1.711654\n",
      "5         18  21.006940 -3.006940\n",
      "6         19  21.389491 -2.389491\n",
      "7         20  21.389491 -1.389491\n",
      "8         15  18.144379 -3.144379\n",
      "9         14  12.732806  1.267194\n",
      "10        14  11.363703  2.636297\n",
      "11        13  10.220540  2.779460\n",
      "12        11  12.428561 -1.428561\n",
      "13        12  12.050499 -0.050499\n",
      "14         8   5.638582  2.361418\n",
      "15         7   6.094949  0.905051\n",
      "16         8   9.519951 -1.519951\n",
      "17         8   8.455093 -0.455093\n",
      "18         9   9.598257 -0.598257\n",
      "19        15  13.587853  1.412147\n",
      "20        15  22.237713 -7.237713\n"
     ]
    }
   ],
   "source": [
    "# merge observed and predicted values and compute residuals\n",
    "df2 = pd.concat([Y, pd.Series(Y_pred), pd.Series(Y-Y_pred)], axis=1)\n",
    "df2.columns=['observed','predicted','residual']\n",
    "print(df2)"
   ]
  },
  {
   "cell_type": "code",
   "execution_count": 89,
   "metadata": {},
   "outputs": [
    {
     "data": {
      "text/plain": [
       "<matplotlib.figure.Figure at 0x1b74f503160>"
      ]
     },
     "metadata": {},
     "output_type": "display_data"
    },
    {
     "data": {
      "image/png": "[encoded data removed]",
      "text/plain": [
       "<matplotlib.figure.Figure at 0x1b74f519128>"
      ]
     },
     "metadata": {},
     "output_type": "display_data"
    }
   ],
   "source": [
    "# plot observed vs predicted values\n",
    "plt.figure()\n",
    "df2.plot.scatter(x='observed', y='predicted')\n",
    "plt.plot(Y_pred, Y_pred, color='blue', linewidth=1)\n",
    "plt.show()"
   ]
  },
  {
   "cell_type": "code",
   "execution_count": 90,
   "metadata": {},
   "outputs": [
    {
     "data": {
      "text/plain": [
       "<matplotlib.figure.Figure at 0x1b74f4df908>"
      ]
     },
     "metadata": {},
     "output_type": "display_data"
    },
    {
     "data": {
      "image/png": "[encoded data removed]",
      "text/plain": [
       "<matplotlib.figure.Figure at 0x1b74f43ada0>"
      ]
     },
     "metadata": {},
     "output_type": "display_data"
    }
   ],
   "source": [
    "# plot residuals\n",
    "plt.figure()\n",
    "df2.plot.scatter(x='observed', y='residual')\n",
    "plt.plot([0,45], [0,0], color='blue', linewidth=1)\n",
    "plt.show()"
   ]
  },
  {
   "cell_type": "code",
   "execution_count": 91,
   "metadata": {},
   "outputs": [
    {
     "name": "stdout",
     "output_type": "stream",
     "text": [
      "           0         1         2         3         4\n",
      "0  -1.651446  2.187408  1.914273  0.519040  2.465745\n",
      "1  -1.486301  2.187408  1.914273  0.327815  1.962043\n",
      "2  -1.321157  1.628581  1.265890  0.710266  1.962043\n",
      "3  -1.156012  0.175631  0.941699  0.136590  1.055377\n",
      "4  -0.990867  0.175631  0.293316  0.136590  0.047972\n",
      "5  -0.825723  0.175631  0.617508  0.136590  0.047972\n",
      "6  -0.660578  0.175631  0.941699  1.283942  0.148712\n",
      "7  -0.495434  0.175631  0.941699  1.283942  0.249453\n",
      "8  -0.330289 -0.271430  0.617508  0.136590 -0.254250\n",
      "9  -0.165145 -0.271430 -1.003450 -1.201988 -0.354991\n",
      "10  0.000000 -0.271430 -1.003450  0.519040 -0.354991\n",
      "11  0.165145 -0.271430 -1.327641  0.327815 -0.455731\n",
      "12  0.330289 -0.271430 -1.003450 -0.819538 -0.657212\n",
      "13  0.495434 -0.271430 -0.679258  1.283942 -0.556472\n",
      "14  0.660578 -1.165553 -1.003450  0.519040 -0.959434\n",
      "15  0.825723 -1.165553 -1.003450 -0.054636 -1.060175\n",
      "16  0.990867 -1.165553 -0.679258 -2.731792 -0.959434\n",
      "17  1.156012 -1.165553 -0.679258 -1.393214 -0.959434\n",
      "18  1.321157 -1.165553 -0.355067 -1.201988 -0.858693\n",
      "19  1.486301 -0.494961 -0.355067 -0.819538 -0.254250\n",
      "20  1.651446  1.069754 -0.355067  0.901491 -0.254250\n",
      "Standardized variables...\n",
      "Coefficients: [ 0.64504766  0.40250249 -0.08014054]\n",
      "Intercept: -1.56395390597e-16\n"
     ]
    }
   ],
   "source": [
    "# normalize variables and rerun MLR analysis to\n",
    "# estimate variable importance.\n",
    "scaler = StandardScaler()\n",
    "dfn = pd.DataFrame(scaler.fit_transform(df))\n",
    "print(dfn)\n",
    "Xn = dfn.iloc[:,1:4]\n",
    "Yn = dfn.iloc[:,4]\n",
    "reg2 = linear_model.LinearRegression()\n",
    "reg2.fit(Xn,Yn)\n",
    "print(\"Standardized variables...\")\n",
    "print(\"Coefficients:\" ,reg2.coef_)\n",
    "print(\"Intercept:\", reg2.intercept_)\n"
   ]
  }
 ],
 "metadata": {
  "kernelspec": {
   "display_name": "Python 3",
   "language": "python",
   "name": "python3"
  },
  "language_info": {
   "codemirror_mode": {
    "name": "ipython",
    "version": 3
   },
   "file_extension": ".py",
   "mimetype": "text/x-python",
   "name": "python",
   "nbconvert_exporter": "python",
   "pygments_lexer": "ipython3",
   "version": "3.6.3"
  }
 },
 "nbformat": 4,
 "nbformat_minor": 2
}
