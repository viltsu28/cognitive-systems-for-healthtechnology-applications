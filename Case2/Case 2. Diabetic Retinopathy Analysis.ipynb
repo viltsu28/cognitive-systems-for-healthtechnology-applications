{
 "cells": [
  {
   "cell_type": "markdown",
   "metadata": {},
   "source": [
    "# Case 2. Diabetic Retinopathy Analysis\n",
    "Ville Seeste<br>\n",
    "Last edited: 26.02.2018<br>\n",
    "Cognitive Systems for Health Technology Applications<br>\n",
    "[Helsinki Metropolia University of Applied Sciences](http://www.metropolia.fi/en/)<br>"
   ]
  },
  {
   "cell_type": "markdown",
   "metadata": {},
   "source": [
    "## 1. Objectives"
   ]
  },
  {
   "cell_type": "markdown",
   "metadata": {},
   "source": [
    "The objectives on this exercise is to use convolutional neural network to try to diagnose if the patient has Diabetic Retinopathy disease. \n",
    "\n",
    "In training the network I use pictures of eyes which have and don't have the disease."
   ]
  },
  {
   "cell_type": "markdown",
   "metadata": {},
   "source": [
    "## 2. Required libraries and global variables"
   ]
  },
  {
   "cell_type": "code",
   "execution_count": 28,
   "metadata": {},
   "outputs": [],
   "source": [
    "# Required libraries\n",
    "import numpy as np\n",
    "import matplotlib.pyplot as plt\n",
    "import time\n",
    "import pickle\n",
    "from sklearn.metrics import roc_curve, roc_auc_score\n",
    "from sklearn.metrics import accuracy_score, precision_score, f1_score, confusion_matrix\n",
    "from sklearn.metrics import classification_report, recall_score\n",
    "from sklearn.metrics import precision_recall_curve\n",
    "from sklearn.metrics import average_precision_score\n",
    "\n",
    "import keras\n",
    "import keras.layers as layers\n",
    "import keras.models as models\n",
    "from keras import optimizers\n",
    "from keras.preprocessing.image import ImageDataGenerator\n",
    "from keras.applications import VGG16\n",
    "from keras.applications import VGG19\n",
    "%matplotlib inline\n",
    "\n",
    "# Training parameters\n",
    "batch_size = 32\n",
    "epochs = 50\n",
    "steps_per_epoch = 32 \n",
    "validation_steps = 16\n",
    "image_height = 200\n",
    "image_width = 150"
   ]
  },
  {
   "cell_type": "markdown",
   "metadata": {},
   "source": [
    "## 3. Data description and preprocessing"
   ]
  },
  {
   "cell_type": "markdown",
   "metadata": {},
   "source": [
    "Data augmentation is used to prevent overfitting. Validation dataset is not augmentated because you want to accurate validation. I also tried to use a bit larger pictures but my computer didn't like that at all."
   ]
  },
  {
   "cell_type": "code",
   "execution_count": 17,
   "metadata": {},
   "outputs": [
    {
     "name": "stdout",
     "output_type": "stream",
     "text": [
      "Found 1237 images belonging to 2 classes.\n",
      "Found 413 images belonging to 2 classes.\n"
     ]
    }
   ],
   "source": [
    "train_dir = \"case2_dataset/train\"\n",
    "validation_dir = \"case2_dataset/validation\"\n",
    "test_dir = \"case2_dataset/test\" \n",
    "\n",
    "train_datagen = ImageDataGenerator(\n",
    "      rescale=1./255,\n",
    "      zoom_range=0.3,\n",
    "      horizontal_flip=True,\n",
    "      fill_mode='nearest')\n",
    "\n",
    "test_datagen = ImageDataGenerator(rescale=1./255)\n",
    "\n",
    "# Generator for train dataset\n",
    "\n",
    "train_generator = train_datagen.flow_from_directory(\n",
    "        train_dir,\n",
    "        target_size = (image_height, image_width),\n",
    "        batch_size = batch_size,\n",
    "        class_mode = 'binary')\n",
    "\n",
    "# Generator for validation dataset\n",
    "\n",
    "validation_generator = test_datagen.flow_from_directory(\n",
    "        validation_dir,\n",
    "        target_size = (image_height, image_width),\n",
    "        batch_size = batch_size,\n",
    "        class_mode = 'binary')"
   ]
  },
  {
   "cell_type": "markdown",
   "metadata": {},
   "source": [
    "## 4. Modeling and compilation\n",
    "\n",
    "\n"
   ]
  },
  {
   "cell_type": "markdown",
   "metadata": {},
   "source": [
    "My plan was to use pretrained convolutional network as base of my model, freeze it and train only self added dense network. \n",
    "\n",
    "I tried VGG16 and VGG19 models with imagenet weights and there where not much difference in the outcome between those two. (VGG16 has 16 layers and VGG19 has 19). I also tried different kind of dense networks but the accuracy was pretty much the same."
   ]
  },
  {
   "cell_type": "code",
   "execution_count": 18,
   "metadata": {},
   "outputs": [
    {
     "name": "stdout",
     "output_type": "stream",
     "text": [
      "_________________________________________________________________\n",
      "Layer (type)                 Output Shape              Param #   \n",
      "=================================================================\n",
      "vgg19 (Model)                (None, 6, 4, 512)         20024384  \n",
      "_________________________________________________________________\n",
      "flatten_3 (Flatten)          (None, 12288)             0         \n",
      "_________________________________________________________________\n",
      "dense_5 (Dense)              (None, 128)               1572992   \n",
      "_________________________________________________________________\n",
      "dense_6 (Dense)              (None, 1)                 129       \n",
      "=================================================================\n",
      "Total params: 21,597,505\n",
      "Trainable params: 1,573,121\n",
      "Non-trainable params: 20,024,384\n",
      "_________________________________________________________________\n"
     ]
    }
   ],
   "source": [
    "conv_base = VGG19(weights='imagenet',\n",
    "                  include_top=False,\n",
    "                  input_shape=(image_height, image_width, 3))\n",
    "\n",
    "model = models.Sequential()\n",
    "model.add(conv_base)\n",
    "model.add(layers.Flatten())\n",
    "model.add(layers.Dense(128, activation='relu'))\n",
    "model.add(layers.Dense(1, activation='sigmoid'))\n",
    "conv_base.trainable = False\n",
    "model.summary()\n"
   ]
  },
  {
   "cell_type": "code",
   "execution_count": 19,
   "metadata": {
    "collapsed": true
   },
   "outputs": [],
   "source": [
    "model.compile(loss='binary_crossentropy',\n",
    "              optimizer=optimizers.RMSprop(lr=2e-5),\n",
    "              metrics=['acc'])"
   ]
  },
  {
   "cell_type": "markdown",
   "metadata": {},
   "source": [
    "## 5. Training"
   ]
  },
  {
   "cell_type": "markdown",
   "metadata": {},
   "source": [
    "When training the model I noticed that my computer doesn't use my GPU. Instead it uses CPU (and it was very time consuming). Im not sure why this is happening at this point but I guess that I migth have installed tensorflow cpu version instead of gpu version. "
   ]
  },
  {
   "cell_type": "code",
   "execution_count": 20,
   "metadata": {},
   "outputs": [
    {
     "name": "stdout",
     "output_type": "stream",
     "text": [
      "Epoch 1/50\n",
      "32/32 [==============================] - 562s 18s/step - loss: 0.5967 - acc: 0.7070 - val_loss: 0.5799 - val_acc: 0.7092\n",
      "Epoch 2/50\n",
      "32/32 [==============================] - 572s 18s/step - loss: 0.5757 - acc: 0.7068 - val_loss: 0.5545 - val_acc: 0.7092\n",
      "Epoch 3/50\n",
      "32/32 [==============================] - 587s 18s/step - loss: 0.5317 - acc: 0.7295 - val_loss: 0.5624 - val_acc: 0.7171\n",
      "Epoch 4/50\n",
      "32/32 [==============================] - 537s 17s/step - loss: 0.5502 - acc: 0.7171 - val_loss: 0.5391 - val_acc: 0.7191\n",
      "Epoch 5/50\n",
      "32/32 [==============================] - 576s 18s/step - loss: 0.5231 - acc: 0.7401 - val_loss: 0.5535 - val_acc: 0.7115\n",
      "Epoch 6/50\n",
      "32/32 [==============================] - 539s 17s/step - loss: 0.5248 - acc: 0.7435 - val_loss: 0.5254 - val_acc: 0.7073\n",
      "Epoch 7/50\n",
      "32/32 [==============================] - 566s 18s/step - loss: 0.5162 - acc: 0.7480 - val_loss: 0.5310 - val_acc: 0.7289\n",
      "Epoch 8/50\n",
      "32/32 [==============================] - 560s 17s/step - loss: 0.4994 - acc: 0.7605 - val_loss: 0.5343 - val_acc: 0.7210\n",
      "Epoch 9/50\n",
      "32/32 [==============================] - 555s 17s/step - loss: 0.5188 - acc: 0.7402 - val_loss: 0.5255 - val_acc: 0.7174\n",
      "Epoch 10/50\n",
      "32/32 [==============================] - 562s 18s/step - loss: 0.5115 - acc: 0.7426 - val_loss: 0.5055 - val_acc: 0.7348\n",
      "Epoch 11/50\n",
      "32/32 [==============================] - 551s 17s/step - loss: 0.5052 - acc: 0.7352 - val_loss: 0.5542 - val_acc: 0.6896\n",
      "Epoch 12/50\n",
      "32/32 [==============================] - 558s 17s/step - loss: 0.5035 - acc: 0.7666 - val_loss: 0.5283 - val_acc: 0.7367\n",
      "Epoch 13/50\n",
      "32/32 [==============================] - 557s 17s/step - loss: 0.4990 - acc: 0.7523 - val_loss: 0.5172 - val_acc: 0.7213\n",
      "Epoch 14/50\n",
      "32/32 [==============================] - 550s 17s/step - loss: 0.4960 - acc: 0.7581 - val_loss: 0.5375 - val_acc: 0.7289\n",
      "Epoch 15/50\n",
      "32/32 [==============================] - 553s 17s/step - loss: 0.4999 - acc: 0.7627 - val_loss: 0.5619 - val_acc: 0.7210\n",
      "Epoch 16/50\n",
      "32/32 [==============================] - 551s 17s/step - loss: 0.5107 - acc: 0.7411 - val_loss: 0.5275 - val_acc: 0.7466\n",
      "Epoch 17/50\n",
      "32/32 [==============================] - 540s 17s/step - loss: 0.4946 - acc: 0.7601 - val_loss: 0.5221 - val_acc: 0.7289\n",
      "Epoch 18/50\n",
      "32/32 [==============================] - 563s 18s/step - loss: 0.4953 - acc: 0.7602 - val_loss: 0.5221 - val_acc: 0.7134\n",
      "Epoch 19/50\n",
      "32/32 [==============================] - 557s 17s/step - loss: 0.4781 - acc: 0.7650 - val_loss: 0.5369 - val_acc: 0.7132\n",
      "Epoch 20/50\n",
      "32/32 [==============================] - 552s 17s/step - loss: 0.5092 - acc: 0.7324 - val_loss: 0.5108 - val_acc: 0.7328\n",
      "Epoch 21/50\n",
      "32/32 [==============================] - 648s 20s/step - loss: 0.4824 - acc: 0.7577 - val_loss: 0.5200 - val_acc: 0.7230\n",
      "Epoch 22/50\n",
      "32/32 [==============================] - 736s 23s/step - loss: 0.4911 - acc: 0.7606 - val_loss: 0.5324 - val_acc: 0.7174\n",
      "Epoch 23/50\n",
      "32/32 [==============================] - 553s 17s/step - loss: 0.4773 - acc: 0.7655 - val_loss: 0.5313 - val_acc: 0.7053\n",
      "Epoch 24/50\n",
      "32/32 [==============================] - 567s 18s/step - loss: 0.4813 - acc: 0.7518 - val_loss: 0.5245 - val_acc: 0.7525\n",
      "Epoch 25/50\n",
      "32/32 [==============================] - 580s 18s/step - loss: 0.4832 - acc: 0.7549 - val_loss: 0.5955 - val_acc: 0.7053\n",
      "Epoch 26/50\n",
      "32/32 [==============================] - 544s 17s/step - loss: 0.4825 - acc: 0.7605 - val_loss: 0.5127 - val_acc: 0.7253\n",
      "Epoch 27/50\n",
      "32/32 [==============================] - 559s 17s/step - loss: 0.4874 - acc: 0.7529 - val_loss: 0.5209 - val_acc: 0.7191\n",
      "Epoch 28/50\n",
      "32/32 [==============================] - 542s 17s/step - loss: 0.4813 - acc: 0.7597 - val_loss: 0.5067 - val_acc: 0.7308\n",
      "Epoch 29/50\n",
      "32/32 [==============================] - 561s 18s/step - loss: 0.4760 - acc: 0.7641 - val_loss: 0.5056 - val_acc: 0.7387\n",
      "Epoch 30/50\n",
      "32/32 [==============================] - 554s 17s/step - loss: 0.4902 - acc: 0.7538 - val_loss: 0.5154 - val_acc: 0.7151\n",
      "Epoch 31/50\n",
      "32/32 [==============================] - 566s 18s/step - loss: 0.4663 - acc: 0.7705 - val_loss: 0.5066 - val_acc: 0.7391\n",
      "Epoch 32/50\n",
      "32/32 [==============================] - 620s 19s/step - loss: 0.4791 - acc: 0.7699 - val_loss: 0.5203 - val_acc: 0.7112\n",
      "Epoch 33/50\n",
      "32/32 [==============================] - 679s 21s/step - loss: 0.4774 - acc: 0.7631 - val_loss: 0.5107 - val_acc: 0.7308\n",
      "Epoch 34/50\n",
      "32/32 [==============================] - 549s 17s/step - loss: 0.4807 - acc: 0.7528 - val_loss: 0.4995 - val_acc: 0.7250\n",
      "Epoch 35/50\n",
      "32/32 [==============================] - 545s 17s/step - loss: 0.4836 - acc: 0.7728 - val_loss: 0.5405 - val_acc: 0.7115\n",
      "Epoch 36/50\n",
      "32/32 [==============================] - 544s 17s/step - loss: 0.4670 - acc: 0.7764 - val_loss: 0.5331 - val_acc: 0.7485\n",
      "Epoch 37/50\n",
      "32/32 [==============================] - 542s 17s/step - loss: 0.4841 - acc: 0.7489 - val_loss: 0.5458 - val_acc: 0.7191\n",
      "Epoch 38/50\n",
      "32/32 [==============================] - 538s 17s/step - loss: 0.4723 - acc: 0.7680 - val_loss: 0.5049 - val_acc: 0.7426\n",
      "Epoch 39/50\n",
      "32/32 [==============================] - 618s 19s/step - loss: 0.4696 - acc: 0.7616 - val_loss: 0.5191 - val_acc: 0.7134\n",
      "Epoch 40/50\n",
      "32/32 [==============================] - 576s 18s/step - loss: 0.4638 - acc: 0.7680 - val_loss: 0.5259 - val_acc: 0.7191\n",
      "Epoch 41/50\n",
      "32/32 [==============================] - 635s 20s/step - loss: 0.4419 - acc: 0.7939 - val_loss: 0.4685 - val_acc: 0.7446\n",
      "Epoch 42/50\n",
      "32/32 [==============================] - 769s 24s/step - loss: 0.4923 - acc: 0.7571 - val_loss: 0.5198 - val_acc: 0.7132\n",
      "Epoch 43/50\n",
      "32/32 [==============================] - 701s 22s/step - loss: 0.4766 - acc: 0.7637 - val_loss: 0.5085 - val_acc: 0.7308\n",
      "Epoch 44/50\n",
      "32/32 [==============================] - 576s 18s/step - loss: 0.4466 - acc: 0.7728 - val_loss: 0.5025 - val_acc: 0.7372\n",
      "Epoch 45/50\n",
      "32/32 [==============================] - 558s 17s/step - loss: 0.4706 - acc: 0.7631 - val_loss: 0.5006 - val_acc: 0.7230\n",
      "Epoch 46/50\n",
      "32/32 [==============================] - 581s 18s/step - loss: 0.4740 - acc: 0.7626 - val_loss: 0.5208 - val_acc: 0.7426\n",
      "Epoch 47/50\n",
      "32/32 [==============================] - 560s 18s/step - loss: 0.4401 - acc: 0.7832 - val_loss: 0.5208 - val_acc: 0.7387\n",
      "Epoch 48/50\n",
      "32/32 [==============================] - 558s 17s/step - loss: 0.4885 - acc: 0.7655 - val_loss: 0.5045 - val_acc: 0.7292\n",
      "Epoch 49/50\n",
      "32/32 [==============================] - 573s 18s/step - loss: 0.4566 - acc: 0.7756 - val_loss: 0.5041 - val_acc: 0.7328\n",
      "Epoch 50/50\n",
      "32/32 [==============================] - 580s 18s/step - loss: 0.4617 - acc: 0.7695 - val_loss: 0.5101 - val_acc: 0.7308\n",
      "Total elapsed time for training: 481.030 minutes\n"
     ]
    }
   ],
   "source": [
    "t1 = time.time()\n",
    "h = model.fit_generator(\n",
    "      train_generator,\n",
    "      steps_per_epoch = steps_per_epoch,\n",
    "      verbose = 1,\n",
    "      epochs = epochs,\n",
    "      validation_data = validation_generator,\n",
    "      validation_steps = validation_steps)\n",
    "t2 = time.time()\n",
    "\n",
    "h.history.update({'time_elapsed': t2 - t1})\n",
    "print('Total elapsed time for training: {:.3f} minutes'.format((t2-t1)/60))"
   ]
  },
  {
   "cell_type": "markdown",
   "metadata": {},
   "source": [
    "## 6. Validation"
   ]
  },
  {
   "cell_type": "markdown",
   "metadata": {},
   "source": [
    "Around 10 epochs my model started to overfit a little bit. Model reached it's best accuracy very quickly. Also it was handy to save the model and the history for a later use. "
   ]
  },
  {
   "cell_type": "code",
   "execution_count": 21,
   "metadata": {},
   "outputs": [
    {
     "data": {
      "image/png": "[encoded data removed]",
      "text/plain": [
       "<matplotlib.figure.Figure at 0x2272d050f98>"
      ]
     },
     "metadata": {},
     "output_type": "display_data"
    },
    {
     "data": {
      "image/png": "[encoded data removed]",
      "text/plain": [
       "<matplotlib.figure.Figure at 0x2272d3441d0>"
      ]
     },
     "metadata": {},
     "output_type": "display_data"
    }
   ],
   "source": [
    "# Save model and history\n",
    "\n",
    "model.save('case2run3.h5')\n",
    "pickle.dump(h.history, open('history_run3.p', 'wb'))\n",
    "\n",
    "# How to load\n",
    "#h = pickle.load(open('history_run2.p', 'rb'))\n",
    "\n",
    "acc = h.history['acc']\n",
    "val_acc = h.history['val_acc']\n",
    "loss = h.history['loss']\n",
    "val_loss = h.history['val_loss']\n",
    "\n",
    "epochs = range(len(acc))\n",
    "\n",
    "plt.plot(epochs, acc, 'bo', label='Training acc')\n",
    "plt.plot(epochs, val_acc, 'b', label='Validation acc')\n",
    "plt.title('Training and validation accuracy')\n",
    "plt.ylim([0, 1])\n",
    "plt.legend()\n",
    "\n",
    "plt.figure()\n",
    "\n",
    "plt.plot(epochs, loss, 'bo', label='Training loss')\n",
    "plt.plot(epochs, val_loss, 'b', label='Validation loss')\n",
    "plt.title('Training and validation loss')\n",
    "plt.ylim([0, 1])\n",
    "plt.legend()\n",
    "\n",
    "plt.show()"
   ]
  },
  {
   "cell_type": "markdown",
   "metadata": {},
   "source": [
    "## 7. Results and Discussion"
   ]
  },
  {
   "cell_type": "code",
   "execution_count": 24,
   "metadata": {},
   "outputs": [
    {
     "name": "stdout",
     "output_type": "stream",
     "text": [
      "Found 413 images belonging to 2 classes.\n"
     ]
    },
    {
     "data": {
      "text/plain": [
       "[0.50467147808412205, 0.75736738697484807]"
      ]
     },
     "execution_count": 24,
     "metadata": {},
     "output_type": "execute_result"
    }
   ],
   "source": [
    "test_generator = test_datagen.flow_from_directory(\n",
    "        test_dir,\n",
    "        target_size = (image_height,image_width),\n",
    "        batch_size = batch_size,\n",
    "        class_mode = 'binary')\n",
    "\n",
    "r = model.evaluate_generator(test_generator, steps = 32)\n",
    "\n",
    "# Loss and accuracy\n",
    "r"
   ]
  },
  {
   "cell_type": "markdown",
   "metadata": {},
   "source": [
    "# Statistics"
   ]
  },
  {
   "cell_type": "code",
   "execution_count": 25,
   "metadata": {
    "collapsed": true
   },
   "outputs": [],
   "source": [
    "y_true = np.zeros(413)\n",
    "y_score = np.zeros(413)\n",
    "sample_count = 413\n",
    "i = 0\n",
    "for inputs_batch, labels_batch in test_generator:\n",
    "        predicts_batch = model.predict(inputs_batch)\n",
    "        L = labels_batch.shape[0]\n",
    "        index = range(i, i + L)\n",
    "        y_true[index] = labels_batch.ravel()\n",
    "        y_score[index] = predicts_batch.ravel()\n",
    "        i = i + L\n",
    "        if i >= sample_count:\n",
    "            break"
   ]
  },
  {
   "cell_type": "code",
   "execution_count": 29,
   "metadata": {},
   "outputs": [
    {
     "data": {
      "image/png": "[encoded data removed]",
      "text/plain": [
       "<matplotlib.figure.Figure at 0x2272545b8d0>"
      ]
     },
     "metadata": {},
     "output_type": "display_data"
    },
    {
     "data": {
      "image/png": "[encoded data removed]",
      "text/plain": [
       "<matplotlib.figure.Figure at 0x227254b14e0>"
      ]
     },
     "metadata": {},
     "output_type": "display_data"
    }
   ],
   "source": [
    "fpr, tpr, thresholds = roc_curve(y_true, y_score)\n",
    "auc = roc_auc_score(y_true, y_score)\n",
    "\n",
    "plt.figure()\n",
    "plt.plot(fpr, tpr)\n",
    "plt.plot([0, 1], [0, 1], '--')\n",
    "plt.grid()\n",
    "plt.xlabel('False Positive Rate')\n",
    "plt.ylabel('True Positive Rate')\n",
    "plt.title('ROC curve   AUC = {:.3f}'.format(auc))\n",
    "plt.show()\n",
    "\n",
    "plt.figure()\n",
    "plt.plot(thresholds, 1-fpr, label = 'specificity')\n",
    "plt.plot(thresholds, tpr, label = 'sensitivity')\n",
    "plt.legend()\n",
    "plt.grid()\n",
    "plt.xlabel('Threshold value')\n",
    "plt.show()"
   ]
  },
  {
   "cell_type": "code",
   "execution_count": 30,
   "metadata": {},
   "outputs": [
    {
     "name": "stdout",
     "output_type": "stream",
     "text": [
      "Accuracy:  0.738\n",
      "Precision: 0.541\n",
      "Recall:    0.613\n",
      "F1:        0.575\n",
      "Classification report\n",
      "             precision    recall  f1-score   support\n",
      "\n",
      "    Disease       0.54      0.61      0.57       119\n",
      "    Healthy       0.83      0.79      0.81       294\n",
      "\n",
      "avg / total       0.75      0.74      0.74       413\n",
      "\n"
     ]
    }
   ],
   "source": [
    "# Metrics\n",
    "\n",
    "th = 0.3\n",
    "\n",
    "acc = accuracy_score(y_true, y_score > th)\n",
    "prec = precision_score(y_true, y_score > th)\n",
    "f1 = f1_score(y_true, y_score > th)\n",
    "recall = recall_score(y_true, y_score > th)\n",
    "\n",
    "print('Accuracy:  {:.3f}'.format(acc))\n",
    "print('Precision: {:.3f}'.format(prec))\n",
    "print('Recall:    {:.3f}'.format(recall))\n",
    "print('F1:        {:.3f}'.format(f1))\n",
    "print('Classification report')\n",
    "print(classification_report(y_true, y_score > th, labels = [1.0, 0.0], target_names = ['Disease', 'Healthy']))"
   ]
  },
  {
   "cell_type": "code",
   "execution_count": 31,
   "metadata": {},
   "outputs": [
    {
     "name": "stdout",
     "output_type": "stream",
     "text": [
      "                      Confusion matrix\n",
      "                       True condition\n",
      "                      Positive Negative      Sum\n",
      "Predicted | Positive        73       62      135\n",
      "condition | Negative        46      232      278\n",
      "                 Sum       119      294      413\n",
      " \n",
      "Sensitivity: 0.613\n",
      "Specificity: 0.789\n"
     ]
    }
   ],
   "source": [
    "# Confusion matrix\n",
    "\n",
    "tn, fp, fn, tp = confusion_matrix(y_true, y_score > th).ravel()\n",
    "\n",
    "print('                      Confusion matrix')\n",
    "print('                       True condition')\n",
    "print('                      Positive Negative      Sum')\n",
    "print('Predicted | Positive  {:8} {:8} {:8}'.format(tp, fp, tp + fp))\n",
    "print('condition | Negative  {:8} {:8} {:8}'.format(fn, tn, fn + tn))\n",
    "print('                 Sum  {:8} {:8} {:8}'.format(tp + fn, fp + tn, tp + fp + fn + tn))\n",
    "print(' ')\n",
    "print('Sensitivity: {:.3f}'.format(tp/(tp+fn)))\n",
    "print('Specificity: {:.3f}'.format(tn/(tn+fp)))"
   ]
  },
  {
   "cell_type": "markdown",
   "metadata": {},
   "source": [
    "I reached accuray of 75%. I expected to have better accuracy (at least 80%). Mayby with better image preprocessing, and unfreezing and fine-tuning couple last conv layers of the VGG model it would be possible. If you look at the confusion matrix you can see that model recognizes healty eyes correct the most."
   ]
  },
  {
   "cell_type": "markdown",
   "metadata": {},
   "source": [
    "## 8. Conclusions"
   ]
  },
  {
   "cell_type": "markdown",
   "metadata": {},
   "source": [
    "I learned that convolutional networks perform well in image categorising problems. Pretrained models are good way of making models more accurate and learn faster. Also you don't have to try to make the model from scratch. \n",
    "\n",
    "I had some major difficulties running the training on my GPU and I need to fix that problem before case 3 (or use cloud services)"
   ]
  }
 ],
 "metadata": {
  "kernelspec": {
   "display_name": "Python 3",
   "language": "python",
   "name": "python3"
  },
  "language_info": {
   "codemirror_mode": {
    "name": "ipython",
    "version": 3
   },
   "file_extension": ".py",
   "mimetype": "text/x-python",
   "name": "python",
   "nbconvert_exporter": "python",
   "pygments_lexer": "ipython3",
   "version": "3.6.3"
  }
 },
 "nbformat": 4,
 "nbformat_minor": 2
}
